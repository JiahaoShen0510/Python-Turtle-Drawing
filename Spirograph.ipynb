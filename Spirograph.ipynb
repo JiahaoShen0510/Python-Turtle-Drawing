{
 "cells": [
  {
   "cell_type": "code",
   "execution_count": 1,
   "metadata": {},
   "outputs": [],
   "source": [
    "import turtle as t\n",
    "import random"
   ]
  },
  {
   "cell_type": "code",
   "execution_count": 2,
   "metadata": {},
   "outputs": [],
   "source": [
    "t0=t.Turtle()\n",
    "\n",
    "t0.hideturtle()\n",
    "\n",
    "t0.speed(\"fastest\")\n",
    "\n",
    "t.colormode(255)\n",
    "\n",
    "def random_color():\n",
    "    r=random.randint(0,255)\n",
    "    g=random.randint(0,255)\n",
    "    b=random.randint(0,255)\n",
    "    color=(r,g,b)\n",
    "    return color\n",
    "\n",
    "def spirograph (gap):\n",
    "    for i in range (int(360/gap)):\n",
    "        t0.color(random_color())\n",
    "        t0.circle(100)\n",
    "        t0.setheading(t0.heading()+gap)\n",
    "    \n",
    "spirograph (5)\n",
    "\n",
    "t.exitonclick()"
   ]
  }
 ],
 "metadata": {
  "kernelspec": {
   "display_name": "Python 3",
   "language": "python",
   "name": "python3"
  },
  "language_info": {
   "codemirror_mode": {
    "name": "ipython",
    "version": 3
   },
   "file_extension": ".py",
   "mimetype": "text/x-python",
   "name": "python",
   "nbconvert_exporter": "python",
   "pygments_lexer": "ipython3",
   "version": "3.7.6"
  }
 },
 "nbformat": 4,
 "nbformat_minor": 4
}
